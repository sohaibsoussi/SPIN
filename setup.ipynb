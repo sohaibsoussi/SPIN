{
 "cells": [
  {
   "cell_type": "code",
   "execution_count": 2,
   "metadata": {},
   "outputs": [
    {
     "name": "stdout",
     "output_type": "stream",
     "text": [
      "Cloning into 'SPIN'...\n",
      "remote: Enumerating objects: 206, done.\u001b[K\n",
      "remote: Counting objects: 100% (114/114), done.\u001b[K\n",
      "remote: Compressing objects: 100% (45/45), done.\u001b[K\n",
      "remote: Total 206 (delta 82), reused 74 (delta 69), pack-reused 92 (from 1)\u001b[K\n",
      "Receiving objects: 100% (206/206), 1.97 MiB | 6.14 MiB/s, done.\n",
      "Resolving deltas: 100% (99/99), done.\n"
     ]
    }
   ],
   "source": [
    "!git clone --branch cuda11_fix https://github.com/nkolot/SPIN.git"
   ]
  },
  {
   "cell_type": "code",
   "execution_count": null,
   "metadata": {},
   "outputs": [],
   "source": []
  }
 ],
 "metadata": {
  "kernelspec": {
   "display_name": "langchain",
   "language": "python",
   "name": "python3"
  },
  "language_info": {
   "codemirror_mode": {
    "name": "ipython",
    "version": 3
   },
   "file_extension": ".py",
   "mimetype": "text/x-python",
   "name": "python",
   "nbconvert_exporter": "python",
   "pygments_lexer": "ipython3",
   "version": "3.8.18"
  }
 },
 "nbformat": 4,
 "nbformat_minor": 2
}
