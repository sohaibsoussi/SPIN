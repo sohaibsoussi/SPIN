{
 "cells": [
  {
   "cell_type": "code",
   "execution_count": 1,
   "metadata": {},
   "outputs": [],
   "source": [
    "# !git clone --branch cuda11_fix https://github.com/nkolot/SPIN.git"
   ]
  },
  {
   "cell_type": "code",
   "execution_count": 14,
   "metadata": {},
   "outputs": [
    {
     "name": "stdout",
     "output_type": "stream",
     "text": [
      "Python version\n",
      "3.10.12 (main, Jul  5 2023, 18:54:27) [GCC 11.2.0]\n",
      "Version info.\n",
      "sys.version_info(major=3, minor=10, micro=12, releaselevel='final', serial=0)\n"
     ]
    }
   ],
   "source": [
    "# Python env is 3.10.12 \n",
    "import sys\n",
    "\n",
    "print(\"Python version\")\n",
    "print(sys.version)\n",
    "print(\"Version info.\")\n",
    "print(sys.version_info)"
   ]
  },
  {
   "cell_type": "code",
   "execution_count": 21,
   "metadata": {},
   "outputs": [],
   "source": [
    "#!pip install torch==2.5.0 torchvision --index-url https://download.pytorch.org/whl/test/cu121"
   ]
  },
  {
   "cell_type": "code",
   "execution_count": 4,
   "metadata": {},
   "outputs": [
    {
     "name": "stdout",
     "output_type": "stream",
     "text": [
      "Python version\n",
      "3.10.12 (main, Jul  5 2023, 18:54:27) [GCC 11.2.0]\n",
      "Version info.\n",
      "sys.version_info(major=3, minor=10, micro=12, releaselevel='final', serial=0)\n"
     ]
    }
   ],
   "source": [
    "import sys\n",
    "\n",
    "print(\"Python version\")\n",
    "print(sys.version)\n",
    "print(\"Version info.\")\n",
    "print(sys.version_info)"
   ]
  },
  {
   "cell_type": "code",
   "execution_count": 6,
   "metadata": {},
   "outputs": [
    {
     "name": "stdout",
     "output_type": "stream",
     "text": [
      "2.5.0+cu121\n"
     ]
    }
   ],
   "source": [
    "import torch\n",
    "print(torch.__version__)"
   ]
  },
  {
   "cell_type": "code",
   "execution_count": 5,
   "metadata": {},
   "outputs": [
    {
     "data": {
      "text/plain": [
       "'12.1'"
      ]
     },
     "execution_count": 5,
     "metadata": {},
     "output_type": "execute_result"
    }
   ],
   "source": [
    "import torch\n",
    "torch.version.cuda"
   ]
  },
  {
   "cell_type": "code",
   "execution_count": 7,
   "metadata": {},
   "outputs": [
    {
     "name": "stdout",
     "output_type": "stream",
     "text": [
      "Collecting git+https://github.com/mattloper/chumpy.git (from -r requirements.txt (line 15))\n",
      "  Cloning https://github.com/mattloper/chumpy.git to /tmp/pip-req-build-4gz7i2ag\n",
      "  Running command git clone --filter=blob:none --quiet https://github.com/mattloper/chumpy.git /tmp/pip-req-build-4gz7i2ag\n",
      "  Resolved https://github.com/mattloper/chumpy.git to commit 51d5afd92a8ded3637553be8cef41f328a1c863a\n",
      "  Preparing metadata (setup.py) ... \u001b[?25ldone\n",
      "\u001b[?25hCollecting git+https://github.com/shubham-goel/NMR.git (from -r requirements.txt (line 16))\n",
      "  Cloning https://github.com/shubham-goel/NMR.git to /tmp/pip-req-build-2gpweyyv\n",
      "  Running command git clone --filter=blob:none --quiet https://github.com/shubham-goel/NMR.git /tmp/pip-req-build-2gpweyyv\n",
      "  Resolved https://github.com/shubham-goel/NMR.git to commit e990b3c70f48d39231f607c79d76ce3db4bf7483\n",
      "  Preparing metadata (setup.py) ... \u001b[?25ldone\n",
      "\u001b[?25hRequirement already satisfied: numpy==1.26.4 in /home/sohaib/.local/lib/python3.10/site-packages (from -r requirements.txt (line 4)) (1.26.4)\n",
      "Collecting opencv-python==4.10.0.84 (from -r requirements.txt (line 5))\n",
      "  Using cached opencv_python-4.10.0.84-cp37-abi3-manylinux_2_17_x86_64.manylinux2014_x86_64.whl.metadata (20 kB)\n",
      "Collecting pyopengl==3.1.0 (from -r requirements.txt (line 6))\n",
      "  Using cached PyOpenGL-3.1.0-py3-none-any.whl\n",
      "Collecting pyrender==0.1.45 (from -r requirements.txt (line 7))\n",
      "  Using cached pyrender-0.1.45-py3-none-any.whl.metadata (1.5 kB)\n",
      "Collecting scikit-image==0.24.0 (from -r requirements.txt (line 8))\n",
      "  Using cached scikit_image-0.24.0-cp310-cp310-manylinux_2_17_x86_64.manylinux2014_x86_64.whl.metadata (14 kB)\n",
      "Collecting scipy==1.13.1 (from -r requirements.txt (line 9))\n",
      "  Using cached scipy-1.13.1-cp310-cp310-manylinux_2_17_x86_64.manylinux2014_x86_64.whl.metadata (60 kB)\n",
      "Collecting tensorboard==2.17.0 (from -r requirements.txt (line 10))\n",
      "  Using cached tensorboard-2.17.0-py3-none-any.whl.metadata (1.6 kB)\n",
      "Collecting smplx==0.1.28 (from -r requirements.txt (line 11))\n",
      "  Using cached smplx-0.1.28-py3-none-any.whl.metadata (10 kB)\n",
      "Collecting spacepy==0.6.0 (from -r requirements.txt (line 12))\n",
      "  Using cached spacepy-0.6.0-cp310-cp310-manylinux_2_17_x86_64.manylinux2014_x86_64.whl.metadata (9.0 kB)\n",
      "Collecting tqdm==4.66.6 (from -r requirements.txt (line 13))\n",
      "  Using cached tqdm-4.66.6-py3-none-any.whl.metadata (57 kB)\n",
      "Collecting trimesh==4.5.1 (from -r requirements.txt (line 14))\n",
      "  Using cached trimesh-4.5.1-py3-none-any.whl.metadata (18 kB)\n",
      "Collecting freetype-py (from pyrender==0.1.45->-r requirements.txt (line 7))\n",
      "  Using cached freetype_py-2.5.1-py3-none-manylinux_2_5_x86_64.manylinux1_x86_64.manylinux_2_12_x86_64.manylinux2010_x86_64.whl.metadata (6.3 kB)\n",
      "Collecting imageio (from pyrender==0.1.45->-r requirements.txt (line 7))\n",
      "  Using cached imageio-2.36.0-py3-none-any.whl.metadata (5.2 kB)\n",
      "Requirement already satisfied: networkx in /home/sohaib/.local/lib/python3.10/site-packages (from pyrender==0.1.45->-r requirements.txt (line 7)) (3.2.1)\n",
      "Requirement already satisfied: Pillow in /home/sohaib/miniconda3/envs/spin_env/lib/python3.10/site-packages (from pyrender==0.1.45->-r requirements.txt (line 7)) (11.0.0)\n",
      "Collecting pyglet>=1.4.10 (from pyrender==0.1.45->-r requirements.txt (line 7))\n",
      "  Using cached pyglet-2.0.18-py3-none-any.whl.metadata (7.9 kB)\n",
      "Requirement already satisfied: six in /home/sohaib/miniconda3/envs/spin_env/lib/python3.10/site-packages (from pyrender==0.1.45->-r requirements.txt (line 7)) (1.16.0)\n",
      "Collecting tifffile>=2022.8.12 (from scikit-image==0.24.0->-r requirements.txt (line 8))\n",
      "  Using cached tifffile-2024.9.20-py3-none-any.whl.metadata (32 kB)\n",
      "Requirement already satisfied: packaging>=21 in /home/sohaib/.local/lib/python3.10/site-packages (from scikit-image==0.24.0->-r requirements.txt (line 8)) (23.2)\n",
      "Collecting lazy-loader>=0.4 (from scikit-image==0.24.0->-r requirements.txt (line 8))\n",
      "  Using cached lazy_loader-0.4-py3-none-any.whl.metadata (7.6 kB)\n",
      "Collecting absl-py>=0.4 (from tensorboard==2.17.0->-r requirements.txt (line 10))\n",
      "  Using cached absl_py-2.1.0-py3-none-any.whl.metadata (2.3 kB)\n",
      "Collecting grpcio>=1.48.2 (from tensorboard==2.17.0->-r requirements.txt (line 10))\n",
      "  Using cached grpcio-1.67.1-cp310-cp310-manylinux_2_17_x86_64.manylinux2014_x86_64.whl.metadata (3.9 kB)\n",
      "Collecting markdown>=2.6.8 (from tensorboard==2.17.0->-r requirements.txt (line 10))\n",
      "  Using cached Markdown-3.7-py3-none-any.whl.metadata (7.0 kB)\n",
      "Collecting protobuf!=4.24.0,<5.0.0,>=3.19.6 (from tensorboard==2.17.0->-r requirements.txt (line 10))\n",
      "  Using cached protobuf-4.25.5-cp37-abi3-manylinux2014_x86_64.whl.metadata (541 bytes)\n",
      "Requirement already satisfied: setuptools>=41.0.0 in /home/sohaib/miniconda3/envs/spin_env/lib/python3.10/site-packages (from tensorboard==2.17.0->-r requirements.txt (line 10)) (75.1.0)\n",
      "Collecting tensorboard-data-server<0.8.0,>=0.7.0 (from tensorboard==2.17.0->-r requirements.txt (line 10))\n",
      "  Using cached tensorboard_data_server-0.7.2-py3-none-manylinux_2_31_x86_64.whl.metadata (1.1 kB)\n",
      "Collecting werkzeug>=1.0.1 (from tensorboard==2.17.0->-r requirements.txt (line 10))\n",
      "  Using cached werkzeug-3.1.0-py3-none-any.whl.metadata (3.7 kB)\n",
      "Requirement already satisfied: torch>=1.0.1.post2 in /home/sohaib/miniconda3/envs/spin_env/lib/python3.10/site-packages (from smplx==0.1.28->-r requirements.txt (line 11)) (2.5.0+cu121)\n",
      "Collecting matplotlib>=3.1 (from spacepy==0.6.0->-r requirements.txt (line 12))\n",
      "  Using cached matplotlib-3.9.2-cp310-cp310-manylinux_2_17_x86_64.manylinux2014_x86_64.whl.metadata (11 kB)\n",
      "Collecting h5py>=2.10 (from spacepy==0.6.0->-r requirements.txt (line 12))\n",
      "  Using cached h5py-3.12.1-cp310-cp310-manylinux_2_17_x86_64.manylinux2014_x86_64.whl.metadata (2.5 kB)\n",
      "Requirement already satisfied: python-dateutil>=2.5 in /home/sohaib/miniconda3/envs/spin_env/lib/python3.10/site-packages (from spacepy==0.6.0->-r requirements.txt (line 12)) (2.9.0)\n",
      "Collecting contourpy>=1.0.1 (from matplotlib>=3.1->spacepy==0.6.0->-r requirements.txt (line 12))\n",
      "  Using cached contourpy-1.3.0-cp310-cp310-manylinux_2_17_x86_64.manylinux2014_x86_64.whl.metadata (5.4 kB)\n",
      "Collecting cycler>=0.10 (from matplotlib>=3.1->spacepy==0.6.0->-r requirements.txt (line 12))\n",
      "  Using cached cycler-0.12.1-py3-none-any.whl.metadata (3.8 kB)\n",
      "Collecting fonttools>=4.22.0 (from matplotlib>=3.1->spacepy==0.6.0->-r requirements.txt (line 12))\n",
      "  Using cached fonttools-4.54.1-cp310-cp310-manylinux_2_17_x86_64.manylinux2014_x86_64.whl.metadata (163 kB)\n",
      "Collecting kiwisolver>=1.3.1 (from matplotlib>=3.1->spacepy==0.6.0->-r requirements.txt (line 12))\n",
      "  Using cached kiwisolver-1.4.7-cp310-cp310-manylinux_2_12_x86_64.manylinux2010_x86_64.whl.metadata (6.3 kB)\n",
      "Collecting pyparsing>=2.3.1 (from matplotlib>=3.1->spacepy==0.6.0->-r requirements.txt (line 12))\n",
      "  Using cached pyparsing-3.2.0-py3-none-any.whl.metadata (5.0 kB)\n",
      "Requirement already satisfied: filelock in /home/sohaib/.local/lib/python3.10/site-packages (from torch>=1.0.1.post2->smplx==0.1.28->-r requirements.txt (line 11)) (3.13.1)\n",
      "Requirement already satisfied: typing-extensions>=4.8.0 in /home/sohaib/.local/lib/python3.10/site-packages (from torch>=1.0.1.post2->smplx==0.1.28->-r requirements.txt (line 11)) (4.9.0)\n",
      "Requirement already satisfied: jinja2 in /home/sohaib/.local/lib/python3.10/site-packages (from torch>=1.0.1.post2->smplx==0.1.28->-r requirements.txt (line 11)) (3.1.3)\n",
      "Requirement already satisfied: fsspec in /home/sohaib/.local/lib/python3.10/site-packages (from torch>=1.0.1.post2->smplx==0.1.28->-r requirements.txt (line 11)) (2024.2.0)\n",
      "Requirement already satisfied: nvidia-cuda-nvrtc-cu12==12.1.105 in /home/sohaib/miniconda3/envs/spin_env/lib/python3.10/site-packages (from torch>=1.0.1.post2->smplx==0.1.28->-r requirements.txt (line 11)) (12.1.105)\n",
      "Requirement already satisfied: nvidia-cuda-runtime-cu12==12.1.105 in /home/sohaib/miniconda3/envs/spin_env/lib/python3.10/site-packages (from torch>=1.0.1.post2->smplx==0.1.28->-r requirements.txt (line 11)) (12.1.105)\n",
      "Requirement already satisfied: nvidia-cuda-cupti-cu12==12.1.105 in /home/sohaib/miniconda3/envs/spin_env/lib/python3.10/site-packages (from torch>=1.0.1.post2->smplx==0.1.28->-r requirements.txt (line 11)) (12.1.105)\n",
      "Requirement already satisfied: nvidia-cudnn-cu12==9.1.0.70 in /home/sohaib/miniconda3/envs/spin_env/lib/python3.10/site-packages (from torch>=1.0.1.post2->smplx==0.1.28->-r requirements.txt (line 11)) (9.1.0.70)\n",
      "Requirement already satisfied: nvidia-cublas-cu12==12.1.3.1 in /home/sohaib/miniconda3/envs/spin_env/lib/python3.10/site-packages (from torch>=1.0.1.post2->smplx==0.1.28->-r requirements.txt (line 11)) (12.1.3.1)\n",
      "Requirement already satisfied: nvidia-cufft-cu12==11.0.2.54 in /home/sohaib/miniconda3/envs/spin_env/lib/python3.10/site-packages (from torch>=1.0.1.post2->smplx==0.1.28->-r requirements.txt (line 11)) (11.0.2.54)\n",
      "Requirement already satisfied: nvidia-curand-cu12==10.3.2.106 in /home/sohaib/miniconda3/envs/spin_env/lib/python3.10/site-packages (from torch>=1.0.1.post2->smplx==0.1.28->-r requirements.txt (line 11)) (10.3.2.106)\n",
      "Requirement already satisfied: nvidia-cusolver-cu12==11.4.5.107 in /home/sohaib/miniconda3/envs/spin_env/lib/python3.10/site-packages (from torch>=1.0.1.post2->smplx==0.1.28->-r requirements.txt (line 11)) (11.4.5.107)\n",
      "Requirement already satisfied: nvidia-cusparse-cu12==12.1.0.106 in /home/sohaib/miniconda3/envs/spin_env/lib/python3.10/site-packages (from torch>=1.0.1.post2->smplx==0.1.28->-r requirements.txt (line 11)) (12.1.0.106)\n",
      "Requirement already satisfied: nvidia-nccl-cu12==2.21.5 in /home/sohaib/miniconda3/envs/spin_env/lib/python3.10/site-packages (from torch>=1.0.1.post2->smplx==0.1.28->-r requirements.txt (line 11)) (2.21.5)\n",
      "Requirement already satisfied: nvidia-nvtx-cu12==12.1.105 in /home/sohaib/miniconda3/envs/spin_env/lib/python3.10/site-packages (from torch>=1.0.1.post2->smplx==0.1.28->-r requirements.txt (line 11)) (12.1.105)\n",
      "Requirement already satisfied: triton==3.1.0 in /home/sohaib/miniconda3/envs/spin_env/lib/python3.10/site-packages (from torch>=1.0.1.post2->smplx==0.1.28->-r requirements.txt (line 11)) (3.1.0)\n",
      "Requirement already satisfied: sympy==1.13.1 in /home/sohaib/miniconda3/envs/spin_env/lib/python3.10/site-packages (from torch>=1.0.1.post2->smplx==0.1.28->-r requirements.txt (line 11)) (1.13.1)\n",
      "Requirement already satisfied: nvidia-nvjitlink-cu12 in /home/sohaib/miniconda3/envs/spin_env/lib/python3.10/site-packages (from nvidia-cusolver-cu12==11.4.5.107->torch>=1.0.1.post2->smplx==0.1.28->-r requirements.txt (line 11)) (12.4.127)\n",
      "Requirement already satisfied: mpmath<1.4,>=1.1.0 in /home/sohaib/.local/lib/python3.10/site-packages (from sympy==1.13.1->torch>=1.0.1.post2->smplx==0.1.28->-r requirements.txt (line 11)) (1.3.0)\n",
      "Requirement already satisfied: MarkupSafe>=2.1.1 in /home/sohaib/.local/lib/python3.10/site-packages (from werkzeug>=1.0.1->tensorboard==2.17.0->-r requirements.txt (line 10)) (2.1.5)\n",
      "Using cached opencv_python-4.10.0.84-cp37-abi3-manylinux_2_17_x86_64.manylinux2014_x86_64.whl (62.5 MB)\n",
      "Using cached pyrender-0.1.45-py3-none-any.whl (1.2 MB)\n",
      "Using cached scikit_image-0.24.0-cp310-cp310-manylinux_2_17_x86_64.manylinux2014_x86_64.whl (14.9 MB)\n",
      "Using cached scipy-1.13.1-cp310-cp310-manylinux_2_17_x86_64.manylinux2014_x86_64.whl (38.6 MB)\n",
      "Using cached tensorboard-2.17.0-py3-none-any.whl (5.5 MB)\n",
      "Using cached smplx-0.1.28-py3-none-any.whl (29 kB)\n",
      "Using cached spacepy-0.6.0-cp310-cp310-manylinux_2_17_x86_64.manylinux2014_x86_64.whl (5.1 MB)\n",
      "Using cached tqdm-4.66.6-py3-none-any.whl (78 kB)\n",
      "Using cached trimesh-4.5.1-py3-none-any.whl (703 kB)\n",
      "Using cached absl_py-2.1.0-py3-none-any.whl (133 kB)\n",
      "Using cached grpcio-1.67.1-cp310-cp310-manylinux_2_17_x86_64.manylinux2014_x86_64.whl (5.9 MB)\n",
      "Using cached h5py-3.12.1-cp310-cp310-manylinux_2_17_x86_64.manylinux2014_x86_64.whl (5.3 MB)\n",
      "Using cached imageio-2.36.0-py3-none-any.whl (315 kB)\n",
      "Using cached lazy_loader-0.4-py3-none-any.whl (12 kB)\n",
      "Using cached Markdown-3.7-py3-none-any.whl (106 kB)\n",
      "Using cached matplotlib-3.9.2-cp310-cp310-manylinux_2_17_x86_64.manylinux2014_x86_64.whl (8.3 MB)\n",
      "Using cached protobuf-4.25.5-cp37-abi3-manylinux2014_x86_64.whl (294 kB)\n",
      "Using cached pyglet-2.0.18-py3-none-any.whl (941 kB)\n",
      "Using cached tensorboard_data_server-0.7.2-py3-none-manylinux_2_31_x86_64.whl (6.6 MB)\n",
      "Using cached tifffile-2024.9.20-py3-none-any.whl (228 kB)\n",
      "Using cached werkzeug-3.1.0-py3-none-any.whl (224 kB)\n",
      "Using cached freetype_py-2.5.1-py3-none-manylinux_2_5_x86_64.manylinux1_x86_64.manylinux_2_12_x86_64.manylinux2010_x86_64.whl (1.0 MB)\n",
      "Using cached contourpy-1.3.0-cp310-cp310-manylinux_2_17_x86_64.manylinux2014_x86_64.whl (322 kB)\n",
      "Using cached cycler-0.12.1-py3-none-any.whl (8.3 kB)\n",
      "Using cached fonttools-4.54.1-cp310-cp310-manylinux_2_17_x86_64.manylinux2014_x86_64.whl (4.6 MB)\n",
      "Using cached kiwisolver-1.4.7-cp310-cp310-manylinux_2_12_x86_64.manylinux2010_x86_64.whl (1.6 MB)\n",
      "Using cached pyparsing-3.2.0-py3-none-any.whl (106 kB)\n",
      "Building wheels for collected packages: chumpy, neural_renderer_pytorch\n",
      "  Building wheel for chumpy (setup.py) ... \u001b[?25ldone\n",
      "\u001b[?25h  Created wheel for chumpy: filename=chumpy-0.71-py3-none-any.whl size=60849 sha256=a890bd2f4351ab6d7d8d1d9a3f10b72472509a6909a92903309547aeb410edb3\n",
      "  Stored in directory: /tmp/pip-ephem-wheel-cache-ifrrne57/wheels/c1/8b/16/1cb55016c30aa36ad8e90a40edc65f32690b86cc9f1a4e5a91\n",
      "  Building wheel for neural_renderer_pytorch (setup.py) ... \u001b[?25lerror\n",
      "  \u001b[1;31merror\u001b[0m: \u001b[1msubprocess-exited-with-error\u001b[0m\n",
      "  \n",
      "  \u001b[31m×\u001b[0m \u001b[32mpython setup.py bdist_wheel\u001b[0m did not run successfully.\n",
      "  \u001b[31m│\u001b[0m exit code: \u001b[1;36m1\u001b[0m\n",
      "  \u001b[31m╰─>\u001b[0m \u001b[31m[68 lines of output]\u001b[0m\n",
      "  \u001b[31m   \u001b[0m /home/sohaib/miniconda3/envs/spin_env/lib/python3.10/site-packages/setuptools/_distutils/dist.py:261: UserWarning: Unknown distribution option: 'test_suite'\n",
      "  \u001b[31m   \u001b[0m   warnings.warn(msg)\n",
      "  \u001b[31m   \u001b[0m running bdist_wheel\n",
      "  \u001b[31m   \u001b[0m running build\n",
      "  \u001b[31m   \u001b[0m running build_py\n",
      "  \u001b[31m   \u001b[0m creating build/lib.linux-x86_64-cpython-310/neural_renderer\n",
      "  \u001b[31m   \u001b[0m copying neural_renderer/mesh.py -> build/lib.linux-x86_64-cpython-310/neural_renderer\n",
      "  \u001b[31m   \u001b[0m copying neural_renderer/lighting.py -> build/lib.linux-x86_64-cpython-310/neural_renderer\n",
      "  \u001b[31m   \u001b[0m copying neural_renderer/look.py -> build/lib.linux-x86_64-cpython-310/neural_renderer\n",
      "  \u001b[31m   \u001b[0m copying neural_renderer/get_points_from_angles.py -> build/lib.linux-x86_64-cpython-310/neural_renderer\n",
      "  \u001b[31m   \u001b[0m copying neural_renderer/look_at.py -> build/lib.linux-x86_64-cpython-310/neural_renderer\n",
      "  \u001b[31m   \u001b[0m copying neural_renderer/vertices_to_faces.py -> build/lib.linux-x86_64-cpython-310/neural_renderer\n",
      "  \u001b[31m   \u001b[0m copying neural_renderer/visibility.py -> build/lib.linux-x86_64-cpython-310/neural_renderer\n",
      "  \u001b[31m   \u001b[0m copying neural_renderer/save_obj.py -> build/lib.linux-x86_64-cpython-310/neural_renderer\n",
      "  \u001b[31m   \u001b[0m copying neural_renderer/renderer.py -> build/lib.linux-x86_64-cpython-310/neural_renderer\n",
      "  \u001b[31m   \u001b[0m copying neural_renderer/projection.py -> build/lib.linux-x86_64-cpython-310/neural_renderer\n",
      "  \u001b[31m   \u001b[0m copying neural_renderer/load_obj.py -> build/lib.linux-x86_64-cpython-310/neural_renderer\n",
      "  \u001b[31m   \u001b[0m copying neural_renderer/__init__.py -> build/lib.linux-x86_64-cpython-310/neural_renderer\n",
      "  \u001b[31m   \u001b[0m copying neural_renderer/perspective.py -> build/lib.linux-x86_64-cpython-310/neural_renderer\n",
      "  \u001b[31m   \u001b[0m copying neural_renderer/rasterize.py -> build/lib.linux-x86_64-cpython-310/neural_renderer\n",
      "  \u001b[31m   \u001b[0m creating build/lib.linux-x86_64-cpython-310/neural_renderer/cuda\n",
      "  \u001b[31m   \u001b[0m copying neural_renderer/cuda/__init__.py -> build/lib.linux-x86_64-cpython-310/neural_renderer/cuda\n",
      "  \u001b[31m   \u001b[0m running build_ext\n",
      "  \u001b[31m   \u001b[0m Traceback (most recent call last):\n",
      "  \u001b[31m   \u001b[0m   File \"<string>\", line 2, in <module>\n",
      "  \u001b[31m   \u001b[0m   File \"<pip-setuptools-caller>\", line 34, in <module>\n",
      "  \u001b[31m   \u001b[0m   File \"/tmp/pip-req-build-2gpweyyv/setup.py\", line 29, in <module>\n",
      "  \u001b[31m   \u001b[0m     setup(\n",
      "  \u001b[31m   \u001b[0m   File \"/home/sohaib/miniconda3/envs/spin_env/lib/python3.10/site-packages/setuptools/__init__.py\", line 117, in setup\n",
      "  \u001b[31m   \u001b[0m     return distutils.core.setup(**attrs)\n",
      "  \u001b[31m   \u001b[0m   File \"/home/sohaib/miniconda3/envs/spin_env/lib/python3.10/site-packages/setuptools/_distutils/core.py\", line 183, in setup\n",
      "  \u001b[31m   \u001b[0m     return run_commands(dist)\n",
      "  \u001b[31m   \u001b[0m   File \"/home/sohaib/miniconda3/envs/spin_env/lib/python3.10/site-packages/setuptools/_distutils/core.py\", line 199, in run_commands\n",
      "  \u001b[31m   \u001b[0m     dist.run_commands()\n",
      "  \u001b[31m   \u001b[0m   File \"/home/sohaib/miniconda3/envs/spin_env/lib/python3.10/site-packages/setuptools/_distutils/dist.py\", line 954, in run_commands\n",
      "  \u001b[31m   \u001b[0m     self.run_command(cmd)\n",
      "  \u001b[31m   \u001b[0m   File \"/home/sohaib/miniconda3/envs/spin_env/lib/python3.10/site-packages/setuptools/dist.py\", line 950, in run_command\n",
      "  \u001b[31m   \u001b[0m     super().run_command(command)\n",
      "  \u001b[31m   \u001b[0m   File \"/home/sohaib/miniconda3/envs/spin_env/lib/python3.10/site-packages/setuptools/_distutils/dist.py\", line 973, in run_command\n",
      "  \u001b[31m   \u001b[0m     cmd_obj.run()\n",
      "  \u001b[31m   \u001b[0m   File \"/home/sohaib/miniconda3/envs/spin_env/lib/python3.10/site-packages/setuptools/command/bdist_wheel.py\", line 398, in run\n",
      "  \u001b[31m   \u001b[0m     self.run_command(\"build\")\n",
      "  \u001b[31m   \u001b[0m   File \"/home/sohaib/miniconda3/envs/spin_env/lib/python3.10/site-packages/setuptools/_distutils/cmd.py\", line 316, in run_command\n",
      "  \u001b[31m   \u001b[0m     self.distribution.run_command(command)\n",
      "  \u001b[31m   \u001b[0m   File \"/home/sohaib/miniconda3/envs/spin_env/lib/python3.10/site-packages/setuptools/dist.py\", line 950, in run_command\n",
      "  \u001b[31m   \u001b[0m     super().run_command(command)\n",
      "  \u001b[31m   \u001b[0m   File \"/home/sohaib/miniconda3/envs/spin_env/lib/python3.10/site-packages/setuptools/_distutils/dist.py\", line 973, in run_command\n",
      "  \u001b[31m   \u001b[0m     cmd_obj.run()\n",
      "  \u001b[31m   \u001b[0m   File \"/home/sohaib/miniconda3/envs/spin_env/lib/python3.10/site-packages/setuptools/_distutils/command/build.py\", line 135, in run\n",
      "  \u001b[31m   \u001b[0m     self.run_command(cmd_name)\n",
      "  \u001b[31m   \u001b[0m   File \"/home/sohaib/miniconda3/envs/spin_env/lib/python3.10/site-packages/setuptools/_distutils/cmd.py\", line 316, in run_command\n",
      "  \u001b[31m   \u001b[0m     self.distribution.run_command(command)\n",
      "  \u001b[31m   \u001b[0m   File \"/home/sohaib/miniconda3/envs/spin_env/lib/python3.10/site-packages/setuptools/dist.py\", line 950, in run_command\n",
      "  \u001b[31m   \u001b[0m     super().run_command(command)\n",
      "  \u001b[31m   \u001b[0m   File \"/home/sohaib/miniconda3/envs/spin_env/lib/python3.10/site-packages/setuptools/_distutils/dist.py\", line 973, in run_command\n",
      "  \u001b[31m   \u001b[0m     cmd_obj.run()\n",
      "  \u001b[31m   \u001b[0m   File \"/home/sohaib/miniconda3/envs/spin_env/lib/python3.10/site-packages/setuptools/command/build_ext.py\", line 98, in run\n",
      "  \u001b[31m   \u001b[0m     _build_ext.run(self)\n",
      "  \u001b[31m   \u001b[0m   File \"/home/sohaib/miniconda3/envs/spin_env/lib/python3.10/site-packages/setuptools/_distutils/command/build_ext.py\", line 359, in run\n",
      "  \u001b[31m   \u001b[0m     self.build_extensions()\n",
      "  \u001b[31m   \u001b[0m   File \"/home/sohaib/miniconda3/envs/spin_env/lib/python3.10/site-packages/torch/utils/cpp_extension.py\", line 520, in build_extensions\n",
      "  \u001b[31m   \u001b[0m     _check_cuda_version(compiler_name, compiler_version)\n",
      "  \u001b[31m   \u001b[0m   File \"/home/sohaib/miniconda3/envs/spin_env/lib/python3.10/site-packages/torch/utils/cpp_extension.py\", line 415, in _check_cuda_version\n",
      "  \u001b[31m   \u001b[0m     raise RuntimeError(CUDA_MISMATCH_MESSAGE.format(cuda_str_version, torch.version.cuda))\n",
      "  \u001b[31m   \u001b[0m RuntimeError:\n",
      "  \u001b[31m   \u001b[0m The detected CUDA version (11.5) mismatches the version that was used to compile\n",
      "  \u001b[31m   \u001b[0m PyTorch (12.1). Please make sure to use the same CUDA versions.\n",
      "  \u001b[31m   \u001b[0m \n",
      "  \u001b[31m   \u001b[0m \u001b[31m[end of output]\u001b[0m\n",
      "  \n",
      "  \u001b[1;35mnote\u001b[0m: This error originates from a subprocess, and is likely not a problem with pip.\n",
      "\u001b[31m  ERROR: Failed building wheel for neural_renderer_pytorch\u001b[0m\u001b[31m\n",
      "\u001b[0m\u001b[?25h  Running setup.py clean for neural_renderer_pytorch\n",
      "Successfully built chumpy\n",
      "Failed to build neural_renderer_pytorch\n",
      "\u001b[31mERROR: ERROR: Failed to build installable wheels for some pyproject.toml based projects (neural_renderer_pytorch)\u001b[0m\u001b[31m\n",
      "\u001b[0m"
     ]
    }
   ],
   "source": [
    "# Install the rest of the dependencies\n",
    "!pip install -r requirements.txt"
   ]
  },
  {
   "cell_type": "code",
   "execution_count": 12,
   "metadata": {},
   "outputs": [
    {
     "name": "stdout",
     "output_type": "stream",
     "text": [
      "fatal: destination path 'neural_renderer' already exists and is not an empty directory.\n"
     ]
    }
   ],
   "source": [
    "!git clone https://github.com/adambielski/neural_renderer.git"
   ]
  },
  {
   "cell_type": "code",
   "execution_count": 13,
   "metadata": {},
   "outputs": [
    {
     "name": "stdout",
     "output_type": "stream",
     "text": [
      "/home/sohaib/miniconda3/envs/spin_env/lib/python3.10/site-packages/setuptools/_distutils/dist.py:261: UserWarning: Unknown distribution option: 'test_suite'\n",
      "  warnings.warn(msg)\n",
      "running install\n",
      "/home/sohaib/miniconda3/envs/spin_env/lib/python3.10/site-packages/setuptools/_distutils/cmd.py:66: SetuptoolsDeprecationWarning: setup.py install is deprecated.\n",
      "!!\n",
      "\n",
      "        ********************************************************************************\n",
      "        Please avoid running ``setup.py`` directly.\n",
      "        Instead, use pypa/build, pypa/installer or other\n",
      "        standards-based tools.\n",
      "\n",
      "        See https://blog.ganssle.io/articles/2021/10/setup-py-deprecated.html for details.\n",
      "        ********************************************************************************\n",
      "\n",
      "!!\n",
      "  self.initialize_options()\n",
      "/home/sohaib/miniconda3/envs/spin_env/lib/python3.10/site-packages/setuptools/_distutils/cmd.py:66: EasyInstallDeprecationWarning: easy_install command is deprecated.\n",
      "!!\n",
      "\n",
      "        ********************************************************************************\n",
      "        Please avoid running ``setup.py`` and ``easy_install``.\n",
      "        Instead, use pypa/build, pypa/installer or other\n",
      "        standards-based tools.\n",
      "\n",
      "        See https://github.com/pypa/setuptools/issues/917 for details.\n",
      "        ********************************************************************************\n",
      "\n",
      "!!\n",
      "  self.initialize_options()\n",
      "running bdist_egg\n",
      "running egg_info\n",
      "writing neural_renderer.egg-info/PKG-INFO\n",
      "writing dependency_links to neural_renderer.egg-info/dependency_links.txt\n",
      "writing requirements to neural_renderer.egg-info/requires.txt\n",
      "writing top-level names to neural_renderer.egg-info/top_level.txt\n",
      "error: package directory 'neural_renderer/cuda' does not exist\n"
     ]
    }
   ],
   "source": [
    "!python3 neural_renderer/setup.py install"
   ]
  },
  {
   "cell_type": "code",
   "execution_count": 10,
   "metadata": {},
   "outputs": [],
   "source": [
    "#!pip install dill"
   ]
  },
  {
   "cell_type": "code",
   "execution_count": 15,
   "metadata": {},
   "outputs": [],
   "source": [
    "# Get SPIN data\n",
    "# !sh fetch_data.sh"
   ]
  },
  {
   "cell_type": "code",
   "execution_count": 9,
   "metadata": {},
   "outputs": [
    {
     "name": "stdout",
     "output_type": "stream",
     "text": [
      "/home/sohaib/miniconda3/envs/pytorch3d/lib/python3.9/site-packages/torchvision/models/_utils.py:208: UserWarning: The parameter 'pretrained' is deprecated since 0.13 and may be removed in the future, please use 'weights' instead.\n",
      "  warnings.warn(\n",
      "/home/sohaib/miniconda3/envs/pytorch3d/lib/python3.9/site-packages/torchvision/models/_utils.py:223: UserWarning: Arguments other than a weight enum or `None` for 'weights' are deprecated since 0.13 and may be removed in the future. The current behavior is equivalent to passing `weights=ResNet50_Weights.IMAGENET1K_V1`. You can also use `weights=ResNet50_Weights.DEFAULT` to get the most up-to-date weights.\n",
      "  warnings.warn(msg)\n",
      "Downloading: \"https://download.pytorch.org/models/resnet50-0676ba61.pth\" to /home/sohaib/.cache/torch/hub/checkpoints/resnet50-0676ba61.pth\n",
      "100%|██████████████████████████████████████| 97.8M/97.8M [00:04<00:00, 23.1MB/s]\n",
      "/home/sohaib/miniconda3/envs/pytorch3d/lib/python3.9/site-packages/chumpy/__init__.py:11: FutureWarning: In the future `np.bool` will be defined as the corresponding NumPy scalar.\n",
      "  from numpy import bool, int, float, complex, object, unicode, str, nan, inf\n",
      "/home/sohaib/miniconda3/envs/pytorch3d/lib/python3.9/site-packages/chumpy/__init__.py:11: FutureWarning: In the future `np.object` will be defined as the corresponding NumPy scalar.\n",
      "  from numpy import bool, int, float, complex, object, unicode, str, nan, inf\n",
      "/home/sohaib/miniconda3/envs/pytorch3d/lib/python3.9/site-packages/chumpy/__init__.py:11: FutureWarning: In the future `np.str` will be defined as the corresponding NumPy scalar.\n",
      "  from numpy import bool, int, float, complex, object, unicode, str, nan, inf\n",
      "Traceback (most recent call last):\n",
      "  File \"/home/sohaib/LPRI_projects/SPIN/demo.py\", line 137, in <module>\n",
      "    smpl = SMPL(config.SMPL_MODEL_DIR,\n",
      "  File \"/home/sohaib/LPRI_projects/SPIN/models/smpl.py\", line 15, in __init__\n",
      "    super(SMPL, self).__init__(*args, **kwargs)\n",
      "  File \"/home/sohaib/miniconda3/envs/pytorch3d/lib/python3.9/site-packages/smplx/body_models.py\", line 137, in __init__\n",
      "    data_struct = Struct(**pickle.load(smpl_file,\n",
      "  File \"/home/sohaib/miniconda3/envs/pytorch3d/lib/python3.9/site-packages/chumpy/__init__.py\", line 11, in <module>\n",
      "    from numpy import bool, int, float, complex, object, unicode, str, nan, inf\n",
      "ImportError: cannot import name 'bool' from 'numpy' (/home/sohaib/miniconda3/envs/pytorch3d/lib/python3.9/site-packages/numpy/__init__.py)\n"
     ]
    }
   ],
   "source": [
    "# Run demo\n",
    "!python3 demo.py --checkpoint=data/model_checkpoint.pt --img=examples/im1010.jpg"
   ]
  }
 ],
 "metadata": {
  "kernelspec": {
   "display_name": "spin_env",
   "language": "python",
   "name": "python3"
  },
  "language_info": {
   "codemirror_mode": {
    "name": "ipython",
    "version": 3
   },
   "file_extension": ".py",
   "mimetype": "text/x-python",
   "name": "python",
   "nbconvert_exporter": "python",
   "pygments_lexer": "ipython3",
   "version": "3.10.12"
  }
 },
 "nbformat": 4,
 "nbformat_minor": 2
}
